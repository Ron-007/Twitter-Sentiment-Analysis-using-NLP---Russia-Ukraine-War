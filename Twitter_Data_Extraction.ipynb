{
 "cells": [
  {
   "cell_type": "code",
   "execution_count": 1,
   "id": "445d3b9a",
   "metadata": {},
   "outputs": [
    {
     "name": "stdout",
     "output_type": "stream",
     "text": [
      "Collecting snscrape\n",
      "  Using cached snscrape-0.4.3.20220106-py3-none-any.whl (59 kB)\n",
      "Requirement already satisfied: requests[socks] in c:\\users\\ronak\\anaconda3\\lib\\site-packages (from snscrape) (2.27.1)\n",
      "Requirement already satisfied: beautifulsoup4 in c:\\users\\ronak\\anaconda3\\lib\\site-packages (from snscrape) (4.9.3)\n",
      "Requirement already satisfied: pytz in c:\\users\\ronak\\anaconda3\\lib\\site-packages (from snscrape) (2021.1)\n",
      "Requirement already satisfied: lxml in c:\\users\\ronak\\anaconda3\\lib\\site-packages (from snscrape) (4.6.3)\n",
      "Requirement already satisfied: filelock in c:\\users\\ronak\\anaconda3\\lib\\site-packages (from snscrape) (3.0.12)\n",
      "Requirement already satisfied: soupsieve>1.2 in c:\\users\\ronak\\anaconda3\\lib\\site-packages (from beautifulsoup4->snscrape) (2.2.1)\n",
      "Requirement already satisfied: certifi>=2017.4.17 in c:\\users\\ronak\\anaconda3\\lib\\site-packages (from requests[socks]->snscrape) (2020.12.5)\n",
      "Requirement already satisfied: charset-normalizer~=2.0.0 in c:\\users\\ronak\\anaconda3\\lib\\site-packages (from requests[socks]->snscrape) (2.0.12)\n",
      "Requirement already satisfied: idna<4,>=2.5 in c:\\users\\ronak\\anaconda3\\lib\\site-packages (from requests[socks]->snscrape) (2.10)\n",
      "Requirement already satisfied: urllib3<1.27,>=1.21.1 in c:\\users\\ronak\\anaconda3\\lib\\site-packages (from requests[socks]->snscrape) (1.26.4)\n",
      "Requirement already satisfied: PySocks!=1.5.7,>=1.5.6 in c:\\users\\ronak\\anaconda3\\lib\\site-packages (from requests[socks]->snscrape) (1.7.1)\n",
      "Installing collected packages: snscrape\n",
      "Successfully installed snscrape-0.4.3.20220106\n"
     ]
    }
   ],
   "source": [
    "# importing libraries and packages\n",
    "!pip install snscrape\n",
    "import snscrape.modules.twitter as sntwitter\n",
    "import pandas as pd"
   ]
  },
  {
   "cell_type": "code",
   "execution_count": 6,
   "id": "4a786634",
   "metadata": {},
   "outputs": [
    {
     "name": "stdout",
     "output_type": "stream",
     "text": [
      "C:\\Users\\ronak\\Desktop\\Spring 2022\\ADS\\ADS Project\n"
     ]
    }
   ],
   "source": [
    "cd ADS Project"
   ]
  },
  {
   "cell_type": "code",
   "execution_count": 18,
   "id": "96b8ad3f",
   "metadata": {},
   "outputs": [],
   "source": [
    "# Creating list to append tweet data to\n",
    "tweets_list3 = []\n",
    "\n",
    "# Using TwitterSearchScraper to scrape data and append tweets to list\n",
    "for i,tweet in enumerate(sntwitter.TwitterSearchScraper('#UkraineRussiaWar until:2022-04-25').get_items()):\n",
    "    if i>100000:\n",
    "        break\n",
    "    tweets_list3.append([tweet.date, tweet.id, tweet.content, tweet.user.username, tweet.likeCount, tweet.user.displayname, tweet.lang])\n",
    "    \n",
    "# Creating a dataframe from the tweets list above\n",
    "tweets_df3 = pd.DataFrame(tweets_list3, columns=['Datetime', 'Tweet Id', 'Text', 'Username', 'Like Count', 'Display Name', 'Language'])"
   ]
  },
  {
   "cell_type": "code",
   "execution_count": 19,
   "id": "47d33527",
   "metadata": {},
   "outputs": [],
   "source": [
    "tweets_df3.to_csv('Ukraine_First_Extract.csv')"
   ]
  },
  {
   "cell_type": "code",
   "execution_count": 20,
   "id": "8470f16a",
   "metadata": {},
   "outputs": [
    {
     "data": {
      "text/html": [
       "<div>\n",
       "<style scoped>\n",
       "    .dataframe tbody tr th:only-of-type {\n",
       "        vertical-align: middle;\n",
       "    }\n",
       "\n",
       "    .dataframe tbody tr th {\n",
       "        vertical-align: top;\n",
       "    }\n",
       "\n",
       "    .dataframe thead th {\n",
       "        text-align: right;\n",
       "    }\n",
       "</style>\n",
       "<table border=\"1\" class=\"dataframe\">\n",
       "  <thead>\n",
       "    <tr style=\"text-align: right;\">\n",
       "      <th></th>\n",
       "      <th>Datetime</th>\n",
       "      <th>Tweet Id</th>\n",
       "      <th>Text</th>\n",
       "      <th>Username</th>\n",
       "      <th>Like Count</th>\n",
       "      <th>Display Name</th>\n",
       "      <th>Language</th>\n",
       "    </tr>\n",
       "  </thead>\n",
       "  <tbody>\n",
       "    <tr>\n",
       "      <th>0</th>\n",
       "      <td>2022-04-24 23:59:08+00:00</td>\n",
       "      <td>1518379042831052800</td>\n",
       "      <td>#Ukraine #UkraineRussiaWar #UkraineRussianWar ...</td>\n",
       "      <td>Ramin_Kondori</td>\n",
       "      <td>0</td>\n",
       "      <td>Ramin Kondori</td>\n",
       "      <td>und</td>\n",
       "    </tr>\n",
       "    <tr>\n",
       "      <th>1</th>\n",
       "      <td>2022-04-24 23:59:04+00:00</td>\n",
       "      <td>1518379026196447233</td>\n",
       "      <td>Please support my mom on YouTube:   \\nhttps://...</td>\n",
       "      <td>MasterTuxedo</td>\n",
       "      <td>1</td>\n",
       "      <td>AlexInATuxedo</td>\n",
       "      <td>en</td>\n",
       "    </tr>\n",
       "    <tr>\n",
       "      <th>2</th>\n",
       "      <td>2022-04-24 23:58:45+00:00</td>\n",
       "      <td>1518378945070223361</td>\n",
       "      <td>Please support my mom on YouTube:   \\nhttps://...</td>\n",
       "      <td>AlexInATuxedo</td>\n",
       "      <td>2</td>\n",
       "      <td>MyHangoutArea</td>\n",
       "      <td>en</td>\n",
       "    </tr>\n",
       "    <tr>\n",
       "      <th>3</th>\n",
       "      <td>2022-04-24 23:56:47+00:00</td>\n",
       "      <td>1518378452218531841</td>\n",
       "      <td>#Dombass: discussion of #Ukraine situation \\n#...</td>\n",
       "      <td>pyrrhophytes41</td>\n",
       "      <td>1</td>\n",
       "      <td>Alfred</td>\n",
       "      <td>en</td>\n",
       "    </tr>\n",
       "    <tr>\n",
       "      <th>4</th>\n",
       "      <td>2022-04-24 23:56:02+00:00</td>\n",
       "      <td>1518378263516786695</td>\n",
       "      <td>Ite Pedicabo te ipsum, Putin!\\n(Latin)\\n\\n#Rus...</td>\n",
       "      <td>FuckPutinBot</td>\n",
       "      <td>0</td>\n",
       "      <td>Fuck Putin Bot - #StandWithUkraine 🇺🇦</td>\n",
       "      <td>en</td>\n",
       "    </tr>\n",
       "    <tr>\n",
       "      <th>...</th>\n",
       "      <td>...</td>\n",
       "      <td>...</td>\n",
       "      <td>...</td>\n",
       "      <td>...</td>\n",
       "      <td>...</td>\n",
       "      <td>...</td>\n",
       "      <td>...</td>\n",
       "    </tr>\n",
       "    <tr>\n",
       "      <th>99996</th>\n",
       "      <td>2022-04-04 18:13:00+00:00</td>\n",
       "      <td>1511044176862846977</td>\n",
       "      <td>#40dayofwar \\n\\nThank you for this decision!\\n...</td>\n",
       "      <td>BlogUkraine</td>\n",
       "      <td>4</td>\n",
       "      <td>Blog about the war for free Ukraine 🇺🇦</td>\n",
       "      <td>en</td>\n",
       "    </tr>\n",
       "    <tr>\n",
       "      <th>99997</th>\n",
       "      <td>2022-04-04 18:12:58+00:00</td>\n",
       "      <td>1511044170009485316</td>\n",
       "      <td>The #Ukrainian foreign minister, Dmytro Kuleba...</td>\n",
       "      <td>RoINTEL</td>\n",
       "      <td>1</td>\n",
       "      <td>RoINTEL</td>\n",
       "      <td>en</td>\n",
       "    </tr>\n",
       "    <tr>\n",
       "      <th>99998</th>\n",
       "      <td>2022-04-04 18:12:54+00:00</td>\n",
       "      <td>1511044151650967552</td>\n",
       "      <td>Les grands distributeurs qui nourrisse les fra...</td>\n",
       "      <td>vitrolles13127</td>\n",
       "      <td>0</td>\n",
       "      <td>jean-bernard 🏳️‍🌈♂️</td>\n",
       "      <td>fr</td>\n",
       "    </tr>\n",
       "    <tr>\n",
       "      <th>99999</th>\n",
       "      <td>2022-04-04 18:12:49+00:00</td>\n",
       "      <td>1511044130662715393</td>\n",
       "      <td>#ukraine #russie #UkraineRussiaWar  \\nATTAQUE ...</td>\n",
       "      <td>Damien94475559</td>\n",
       "      <td>0</td>\n",
       "      <td>𝔻𝕒𝕞𝕚𝕤𝕙 𝔸𝕔𝕥𝕦 𝔾é𝕠𝕡𝕠𝕝𝕚𝕥𝕚𝕢𝕦𝕖</td>\n",
       "      <td>fr</td>\n",
       "    </tr>\n",
       "    <tr>\n",
       "      <th>100000</th>\n",
       "      <td>2022-04-04 18:12:18+00:00</td>\n",
       "      <td>1511044002396749831</td>\n",
       "      <td>Insomma aveva ragione @POTUS a chiamarlo 'mace...</td>\n",
       "      <td>Brasviz1</td>\n",
       "      <td>32</td>\n",
       "      <td>Fabrizio Brasviz 🇪🇺🕎YPG🇺🇦</td>\n",
       "      <td>it</td>\n",
       "    </tr>\n",
       "  </tbody>\n",
       "</table>\n",
       "<p>100001 rows × 7 columns</p>\n",
       "</div>"
      ],
      "text/plain": [
       "                        Datetime             Tweet Id  \\\n",
       "0      2022-04-24 23:59:08+00:00  1518379042831052800   \n",
       "1      2022-04-24 23:59:04+00:00  1518379026196447233   \n",
       "2      2022-04-24 23:58:45+00:00  1518378945070223361   \n",
       "3      2022-04-24 23:56:47+00:00  1518378452218531841   \n",
       "4      2022-04-24 23:56:02+00:00  1518378263516786695   \n",
       "...                          ...                  ...   \n",
       "99996  2022-04-04 18:13:00+00:00  1511044176862846977   \n",
       "99997  2022-04-04 18:12:58+00:00  1511044170009485316   \n",
       "99998  2022-04-04 18:12:54+00:00  1511044151650967552   \n",
       "99999  2022-04-04 18:12:49+00:00  1511044130662715393   \n",
       "100000 2022-04-04 18:12:18+00:00  1511044002396749831   \n",
       "\n",
       "                                                     Text        Username  \\\n",
       "0       #Ukraine #UkraineRussiaWar #UkraineRussianWar ...   Ramin_Kondori   \n",
       "1       Please support my mom on YouTube:   \\nhttps://...    MasterTuxedo   \n",
       "2       Please support my mom on YouTube:   \\nhttps://...   AlexInATuxedo   \n",
       "3       #Dombass: discussion of #Ukraine situation \\n#...  pyrrhophytes41   \n",
       "4       Ite Pedicabo te ipsum, Putin!\\n(Latin)\\n\\n#Rus...    FuckPutinBot   \n",
       "...                                                   ...             ...   \n",
       "99996   #40dayofwar \\n\\nThank you for this decision!\\n...     BlogUkraine   \n",
       "99997   The #Ukrainian foreign minister, Dmytro Kuleba...         RoINTEL   \n",
       "99998   Les grands distributeurs qui nourrisse les fra...  vitrolles13127   \n",
       "99999   #ukraine #russie #UkraineRussiaWar  \\nATTAQUE ...  Damien94475559   \n",
       "100000  Insomma aveva ragione @POTUS a chiamarlo 'mace...        Brasviz1   \n",
       "\n",
       "        Like Count                            Display Name Language  \n",
       "0                0                           Ramin Kondori      und  \n",
       "1                1                           AlexInATuxedo       en  \n",
       "2                2                           MyHangoutArea       en  \n",
       "3                1                                  Alfred       en  \n",
       "4                0   Fuck Putin Bot - #StandWithUkraine 🇺🇦       en  \n",
       "...            ...                                     ...      ...  \n",
       "99996            4  Blog about the war for free Ukraine 🇺🇦       en  \n",
       "99997            1                                 RoINTEL       en  \n",
       "99998            0                     jean-bernard 🏳️‍🌈♂️       fr  \n",
       "99999            0                𝔻𝕒𝕞𝕚𝕤𝕙 𝔸𝕔𝕥𝕦 𝔾é𝕠𝕡𝕠𝕝𝕚𝕥𝕚𝕢𝕦𝕖       fr  \n",
       "100000          32               Fabrizio Brasviz 🇪🇺🕎YPG🇺🇦       it  \n",
       "\n",
       "[100001 rows x 7 columns]"
      ]
     },
     "execution_count": 20,
     "metadata": {},
     "output_type": "execute_result"
    }
   ],
   "source": [
    "tweets_df3"
   ]
  },
  {
   "cell_type": "code",
   "execution_count": 21,
   "id": "5ee1bc8a",
   "metadata": {},
   "outputs": [],
   "source": [
    "tweets_urw = tweets_df3.rename(columns={'Tweet ID': 'Tweet Id'})"
   ]
  },
  {
   "cell_type": "code",
   "execution_count": 22,
   "id": "41e4641e",
   "metadata": {},
   "outputs": [
    {
     "data": {
      "text/html": [
       "<div>\n",
       "<style scoped>\n",
       "    .dataframe tbody tr th:only-of-type {\n",
       "        vertical-align: middle;\n",
       "    }\n",
       "\n",
       "    .dataframe tbody tr th {\n",
       "        vertical-align: top;\n",
       "    }\n",
       "\n",
       "    .dataframe thead th {\n",
       "        text-align: right;\n",
       "    }\n",
       "</style>\n",
       "<table border=\"1\" class=\"dataframe\">\n",
       "  <thead>\n",
       "    <tr style=\"text-align: right;\">\n",
       "      <th></th>\n",
       "      <th>Datetime</th>\n",
       "      <th>Tweet Id</th>\n",
       "      <th>Text</th>\n",
       "      <th>Username</th>\n",
       "      <th>Like Count</th>\n",
       "      <th>Display Name</th>\n",
       "      <th>Language</th>\n",
       "    </tr>\n",
       "  </thead>\n",
       "  <tbody>\n",
       "    <tr>\n",
       "      <th>0</th>\n",
       "      <td>2022-04-24 23:59:08+00:00</td>\n",
       "      <td>1518379042831052800</td>\n",
       "      <td>#Ukraine #UkraineRussiaWar #UkraineRussianWar ...</td>\n",
       "      <td>Ramin_Kondori</td>\n",
       "      <td>0</td>\n",
       "      <td>Ramin Kondori</td>\n",
       "      <td>und</td>\n",
       "    </tr>\n",
       "    <tr>\n",
       "      <th>1</th>\n",
       "      <td>2022-04-24 23:59:04+00:00</td>\n",
       "      <td>1518379026196447233</td>\n",
       "      <td>Please support my mom on YouTube:   \\nhttps://...</td>\n",
       "      <td>MasterTuxedo</td>\n",
       "      <td>1</td>\n",
       "      <td>AlexInATuxedo</td>\n",
       "      <td>en</td>\n",
       "    </tr>\n",
       "    <tr>\n",
       "      <th>2</th>\n",
       "      <td>2022-04-24 23:58:45+00:00</td>\n",
       "      <td>1518378945070223361</td>\n",
       "      <td>Please support my mom on YouTube:   \\nhttps://...</td>\n",
       "      <td>AlexInATuxedo</td>\n",
       "      <td>2</td>\n",
       "      <td>MyHangoutArea</td>\n",
       "      <td>en</td>\n",
       "    </tr>\n",
       "    <tr>\n",
       "      <th>3</th>\n",
       "      <td>2022-04-24 23:56:47+00:00</td>\n",
       "      <td>1518378452218531841</td>\n",
       "      <td>#Dombass: discussion of #Ukraine situation \\n#...</td>\n",
       "      <td>pyrrhophytes41</td>\n",
       "      <td>1</td>\n",
       "      <td>Alfred</td>\n",
       "      <td>en</td>\n",
       "    </tr>\n",
       "    <tr>\n",
       "      <th>4</th>\n",
       "      <td>2022-04-24 23:56:02+00:00</td>\n",
       "      <td>1518378263516786695</td>\n",
       "      <td>Ite Pedicabo te ipsum, Putin!\\n(Latin)\\n\\n#Rus...</td>\n",
       "      <td>FuckPutinBot</td>\n",
       "      <td>0</td>\n",
       "      <td>Fuck Putin Bot - #StandWithUkraine 🇺🇦</td>\n",
       "      <td>en</td>\n",
       "    </tr>\n",
       "  </tbody>\n",
       "</table>\n",
       "</div>"
      ],
      "text/plain": [
       "                   Datetime             Tweet Id  \\\n",
       "0 2022-04-24 23:59:08+00:00  1518379042831052800   \n",
       "1 2022-04-24 23:59:04+00:00  1518379026196447233   \n",
       "2 2022-04-24 23:58:45+00:00  1518378945070223361   \n",
       "3 2022-04-24 23:56:47+00:00  1518378452218531841   \n",
       "4 2022-04-24 23:56:02+00:00  1518378263516786695   \n",
       "\n",
       "                                                Text        Username  \\\n",
       "0  #Ukraine #UkraineRussiaWar #UkraineRussianWar ...   Ramin_Kondori   \n",
       "1  Please support my mom on YouTube:   \\nhttps://...    MasterTuxedo   \n",
       "2  Please support my mom on YouTube:   \\nhttps://...   AlexInATuxedo   \n",
       "3  #Dombass: discussion of #Ukraine situation \\n#...  pyrrhophytes41   \n",
       "4  Ite Pedicabo te ipsum, Putin!\\n(Latin)\\n\\n#Rus...    FuckPutinBot   \n",
       "\n",
       "   Like Count                           Display Name Language  \n",
       "0           0                          Ramin Kondori      und  \n",
       "1           1                          AlexInATuxedo       en  \n",
       "2           2                          MyHangoutArea       en  \n",
       "3           1                                 Alfred       en  \n",
       "4           0  Fuck Putin Bot - #StandWithUkraine 🇺🇦       en  "
      ]
     },
     "execution_count": 22,
     "metadata": {},
     "output_type": "execute_result"
    }
   ],
   "source": [
    "tweets_urw.head(5)"
   ]
  },
  {
   "cell_type": "code",
   "execution_count": 23,
   "id": "c0b503bf",
   "metadata": {},
   "outputs": [
    {
     "data": {
      "text/plain": [
       "(100001, 7)"
      ]
     },
     "execution_count": 23,
     "metadata": {},
     "output_type": "execute_result"
    }
   ],
   "source": [
    "tweets_urw.shape"
   ]
  },
  {
   "cell_type": "code",
   "execution_count": 24,
   "id": "3bb81ff1",
   "metadata": {},
   "outputs": [],
   "source": [
    "tweets_urw = tweets_urw[tweets_urw['Language']=='en']"
   ]
  },
  {
   "cell_type": "code",
   "execution_count": 25,
   "id": "16a14f46",
   "metadata": {},
   "outputs": [
    {
     "data": {
      "text/plain": [
       "(57355, 7)"
      ]
     },
     "execution_count": 25,
     "metadata": {},
     "output_type": "execute_result"
    }
   ],
   "source": [
    "tweets_urw.shape"
   ]
  }
 ],
 "metadata": {
  "kernelspec": {
   "display_name": "Python 3",
   "language": "python",
   "name": "python3"
  },
  "language_info": {
   "codemirror_mode": {
    "name": "ipython",
    "version": 3
   },
   "file_extension": ".py",
   "mimetype": "text/x-python",
   "name": "python",
   "nbconvert_exporter": "python",
   "pygments_lexer": "ipython3",
   "version": "3.8.8"
  }
 },
 "nbformat": 4,
 "nbformat_minor": 5
}
